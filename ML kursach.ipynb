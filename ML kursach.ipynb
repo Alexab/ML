{
 "cells": [
  {
   "cell_type": "code",
   "execution_count": 1,
   "metadata": {},
   "outputs": [],
   "source": [
    "import os\n",
    "import numpy as np\n",
    "import pandas as pd\n",
    "import matplotlib.pyplot as plt\n",
    "import matplotlib.cm as cm\n",
    "import matplotlib\n",
    "import random\n",
    "import datetime\n",
    "import seaborn\n",
    "import pylab as pl\n",
    "from sklearn.model_selection import train_test_split\n",
    "from sklearn import neighbors\n",
    "from time import time\n",
    "from datetime import datetime, date\n",
    "from sklearn.naive_bayes import GaussianNB\n",
    "from sklearn.svm import SVC"
   ]
  },
  {
   "cell_type": "code",
   "execution_count": 2,
   "metadata": {},
   "outputs": [],
   "source": [
    "path1 = [['/media/sf_helicopter_connection/emiData2018/2018.11.24', '2018.11.24_05.26.21_morning_star'],\n",
    "         ['/media/sf_helicopter_connection/emiData2018/2018.12.03', '2018.12.03_05.57.11_morning_emi'],\n",
    "         ['/media/sf_helicopter_connection/emiData2018/2018.12.04', '2018.12.04_05.32.24_morning_emi']]\n",
    "\n",
    "time_to_number = {}"
   ]
  },
  {
   "cell_type": "code",
   "execution_count": 3,
   "metadata": {},
   "outputs": [
    {
     "name": "stdout",
     "output_type": "stream",
     "text": [
      "Series([], dtype: float64)\n",
      "Series([], dtype: float64)\n"
     ]
    }
   ],
   "source": [
    "x = pd.Series([])\n",
    "y = pd.Series([])\n",
    "print(x)\n",
    "print(y)\n",
    "x[0] = 0\n",
    "y[0] = 0"
   ]
  },
  {
   "cell_type": "code",
   "execution_count": 4,
   "metadata": {},
   "outputs": [
    {
     "data": {
      "text/html": [
       "<div>\n",
       "<style scoped>\n",
       "    .dataframe tbody tr th:only-of-type {\n",
       "        vertical-align: middle;\n",
       "    }\n",
       "\n",
       "    .dataframe tbody tr th {\n",
       "        vertical-align: top;\n",
       "    }\n",
       "\n",
       "    .dataframe thead th {\n",
       "        text-align: right;\n",
       "    }\n",
       "</style>\n",
       "<table border=\"1\" class=\"dataframe\">\n",
       "  <thead>\n",
       "    <tr style=\"text-align: right;\">\n",
       "      <th></th>\n",
       "      <th>class</th>\n",
       "      <th>signal</th>\n",
       "    </tr>\n",
       "  </thead>\n",
       "  <tbody>\n",
       "  </tbody>\n",
       "</table>\n",
       "</div>"
      ],
      "text/plain": [
       "Empty DataFrame\n",
       "Columns: [class, signal]\n",
       "Index: []"
      ]
     },
     "execution_count": 4,
     "metadata": {},
     "output_type": "execute_result"
    }
   ],
   "source": [
    "dataset = pd.DataFrame(columns = ['class','signal'])\n",
    "dataset"
   ]
  },
  {
   "cell_type": "code",
   "execution_count": 5,
   "metadata": {},
   "outputs": [],
   "source": [
    "#Считывание данных из одного файла\n",
    "def opFile(path, filename, file_number):\n",
    "    os.chdir(path)\n",
    "\n",
    "    try:\n",
    "        file = open('./' + str(filename) + str(file_number) + '_module_filtered.dat', 'r')\n",
    "    except IOError:\n",
    "        return\n",
    "    element_number = 0;\n",
    "    while True:\n",
    "        st = file.readline()\n",
    "        if st == '':\n",
    "            break\n",
    "        str_data = st.split()\n",
    "        element_number += 1\n",
    "        time_to_number[float(str_data[0])] = element_number - 1\n",
    "        x[x.index.max() + 1] = float(str_data[0])\n",
    "        y[y.index.max() + 1] = float(str_data[1])"
   ]
  },
  {
   "cell_type": "code",
   "execution_count": 6,
   "metadata": {},
   "outputs": [],
   "source": [
    "#Считывание данных из n файлов\n",
    "def dataExec(path_number, files_range):\n",
    "    for i in range(1, files_range):\n",
    "        opFile(path1[path_number - 1][0], path1[path_number - 1][1], i)"
   ]
  },
  {
   "cell_type": "code",
   "execution_count": 7,
   "metadata": {},
   "outputs": [],
   "source": [
    "#Нарезает непрерывные данные на сигналы однаковой длины и помечает \"истинные\".\n",
    "#Длина \"истинного\" сигнала варьируется от 500 до 600 значений, поэтому\n",
    "#ширина окна выбрана 600.\n",
    "def cutter():\n",
    "    os.chdir('/media/sf_helicopter_connection/emiData2018/')\n",
    "    emitrue = open('emitrue.dat', 'r')            #Открытие файла со временем возникновения \"истинных\" сигналов\n",
    "    list_of_lines = emitrue.readlines()\n",
    "    number_of_true_signals = len(list_of_lines)\n",
    "    step = 10                                     #Шаг движения окна\n",
    "    window_width = 600                            #Ширина окна\n",
    "    start_time = []\n",
    "    stop_time = []\n",
    "    global dataset\n",
    "    dataset = pd.DataFrame(columns = ['class','signal'])\n",
    "    for i in range(0, number_of_true_signals - 1):\n",
    "        time = list_of_lines[i].split()\n",
    "        start_time.append(float(time[0]))\n",
    "        stop_time.append(float(time[1]))\n",
    "\n",
    "    for j in range(1, x.index.max(), step):\n",
    "        signal = np.empty(window_width)\n",
    "        if (x.index.max() - j) < window_width:\n",
    "            break\n",
    "        for i in range(0, window_width):\n",
    "            signal[i] = ny[j+i]\n",
    "        for k in range(0, len(start_time)):\n",
    "            if abs(x[j] - start_time[k]) < 0.000002000:\n",
    "                dataset = dataset.append({'class':1, 'signal':signal}, ignore_index=True)\n",
    "                break\n",
    "            else:\n",
    "                dataset = dataset.append({'class':0, 'signal':signal}, ignore_index=True)\n"
   ]
  },
  {
   "cell_type": "code",
   "execution_count": 8,
   "metadata": {},
   "outputs": [],
   "source": [
    "dataExec(1, 10)"
   ]
  },
  {
   "cell_type": "code",
   "execution_count": 9,
   "metadata": {},
   "outputs": [
    {
     "data": {
      "text/plain": [
       "<matplotlib.axes._subplots.AxesSubplot at 0x7f9148aadfd0>"
      ]
     },
     "execution_count": 9,
     "metadata": {},
     "output_type": "execute_result"
    },
    {
     "data": {
      "image/png": "[encoded data removed]",
      "text/plain": [
       "<Figure size 432x288 with 1 Axes>"
      ]
     },
     "metadata": {
      "needs_background": "light"
     },
     "output_type": "display_data"
    }
   ],
   "source": [
    "#Нормирование данных и отображение\n",
    "ny = (y - y.mean())/y.std()\n",
    "ny.plot()"
   ]
  },
  {
   "cell_type": "code",
   "execution_count": 10,
   "metadata": {},
   "outputs": [],
   "source": [
    "cutter()"
   ]
  },
  {
   "cell_type": "code",
   "execution_count": 11,
   "metadata": {},
   "outputs": [
    {
     "data": {
      "text/html": [
       "<div>\n",
       "<style scoped>\n",
       "    .dataframe tbody tr th:only-of-type {\n",
       "        vertical-align: middle;\n",
       "    }\n",
       "\n",
       "    .dataframe tbody tr th {\n",
       "        vertical-align: top;\n",
       "    }\n",
       "\n",
       "    .dataframe thead th {\n",
       "        text-align: right;\n",
       "    }\n",
       "</style>\n",
       "<table border=\"1\" class=\"dataframe\">\n",
       "  <thead>\n",
       "    <tr style=\"text-align: right;\">\n",
       "      <th></th>\n",
       "      <th>class</th>\n",
       "      <th>signal</th>\n",
       "    </tr>\n",
       "  </thead>\n",
       "  <tbody>\n",
       "    <tr>\n",
       "      <th>11490</th>\n",
       "      <td>1</td>\n",
       "      <td>[0.39034476206762314, 0.39133921712493935, 0.3...</td>\n",
       "    </tr>\n",
       "    <tr>\n",
       "      <th>11491</th>\n",
       "      <td>1</td>\n",
       "      <td>[0.40315375044409824, 0.4048116725300225, 0.40...</td>\n",
       "    </tr>\n",
       "    <tr>\n",
       "      <th>15153</th>\n",
       "      <td>1</td>\n",
       "      <td>[0.5665808252437974, 0.5639590816469907, 0.561...</td>\n",
       "    </tr>\n",
       "    <tr>\n",
       "      <th>39846</th>\n",
       "      <td>1</td>\n",
       "      <td>[-0.9381179803473073, -0.9457174045879385, -0....</td>\n",
       "    </tr>\n",
       "    <tr>\n",
       "      <th>44530</th>\n",
       "      <td>1</td>\n",
       "      <td>[-1.5607167348253783, -1.558098921961959, -1.5...</td>\n",
       "    </tr>\n",
       "    <tr>\n",
       "      <th>55545</th>\n",
       "      <td>1</td>\n",
       "      <td>[0.3533520985862689, 0.3546010579642341, 0.355...</td>\n",
       "    </tr>\n",
       "    <tr>\n",
       "      <th>55550</th>\n",
       "      <td>1</td>\n",
       "      <td>[0.367196659996443, 0.36875081060738074, 0.370...</td>\n",
       "    </tr>\n",
       "    <tr>\n",
       "      <th>59036</th>\n",
       "      <td>1</td>\n",
       "      <td>[0.5592940332755221, 0.5624160011502768, 0.565...</td>\n",
       "    </tr>\n",
       "    <tr>\n",
       "      <th>59042</th>\n",
       "      <td>1</td>\n",
       "      <td>[0.5934361368314437, 0.5971633877461374, 0.600...</td>\n",
       "    </tr>\n",
       "    <tr>\n",
       "      <th>78369</th>\n",
       "      <td>1</td>\n",
       "      <td>[-1.3412173386106212, -1.3419125667749745, -1....</td>\n",
       "    </tr>\n",
       "    <tr>\n",
       "      <th>78376</th>\n",
       "      <td>1</td>\n",
       "      <td>[-1.3452664573104443, -1.345318510107017, -1.3...</td>\n",
       "    </tr>\n",
       "    <tr>\n",
       "      <th>82674</th>\n",
       "      <td>1</td>\n",
       "      <td>[-0.7421387713145039, -0.7440067482617805, -0....</td>\n",
       "    </tr>\n",
       "    <tr>\n",
       "      <th>82682</th>\n",
       "      <td>1</td>\n",
       "      <td>[-0.7591937956500387, -0.7606949808491414, -0....</td>\n",
       "    </tr>\n",
       "  </tbody>\n",
       "</table>\n",
       "</div>"
      ],
      "text/plain": [
       "      class                                             signal\n",
       "11490     1  [0.39034476206762314, 0.39133921712493935, 0.3...\n",
       "11491     1  [0.40315375044409824, 0.4048116725300225, 0.40...\n",
       "15153     1  [0.5665808252437974, 0.5639590816469907, 0.561...\n",
       "39846     1  [-0.9381179803473073, -0.9457174045879385, -0....\n",
       "44530     1  [-1.5607167348253783, -1.558098921961959, -1.5...\n",
       "55545     1  [0.3533520985862689, 0.3546010579642341, 0.355...\n",
       "55550     1  [0.367196659996443, 0.36875081060738074, 0.370...\n",
       "59036     1  [0.5592940332755221, 0.5624160011502768, 0.565...\n",
       "59042     1  [0.5934361368314437, 0.5971633877461374, 0.600...\n",
       "78369     1  [-1.3412173386106212, -1.3419125667749745, -1....\n",
       "78376     1  [-1.3452664573104443, -1.345318510107017, -1.3...\n",
       "82674     1  [-0.7421387713145039, -0.7440067482617805, -0....\n",
       "82682     1  [-0.7591937956500387, -0.7606949808491414, -0...."
      ]
     },
     "execution_count": 11,
     "metadata": {},
     "output_type": "execute_result"
    }
   ],
   "source": [
    "#Истинные сигналы (на самом деле некоторые сигналы попадают 2-3 раза\n",
    "#с небольшим сдвигом, но, думаю, это не страшно)\n",
    "dataset[dataset['class']==1]"
   ]
  },
  {
   "cell_type": "code",
   "execution_count": 12,
   "metadata": {},
   "outputs": [
    {
     "data": {
      "image/png": "[encoded data removed]",
      "text/plain": [
       "<Figure size 432x288 with 1 Axes>"
      ]
     },
     "metadata": {
      "needs_background": "light"
     },
     "output_type": "display_data"
    }
   ],
   "source": [
    "#Образец истинного сигнала\n",
    "plt.plot(dataset.loc[11490, 'signal'])\n",
    "plt.show()"
   ]
  },
  {
   "cell_type": "code",
   "execution_count": 13,
   "metadata": {},
   "outputs": [],
   "source": [
    "#Сокращение выборки, чтобы примерно уравнять количество \"истинных\" и \"ложных\" сигналов\n",
    "temp_dataset = pd.DataFrame(columns = ['class','signal'])\n",
    "step = 2000\n",
    "for i in range(0, dataset['class'].size // step * step, step):\n",
    "    if dataset['class'].iloc[i] == 1:\n",
    "        break\n",
    "    temp_dataset = temp_dataset.append(dataset[dataset['class'] ==0].iloc[i], ignore_index=True)"
   ]
  },
  {
   "cell_type": "code",
   "execution_count": 14,
   "metadata": {},
   "outputs": [
    {
     "data": {
      "text/html": [
       "<div>\n",
       "<style scoped>\n",
       "    .dataframe tbody tr th:only-of-type {\n",
       "        vertical-align: middle;\n",
       "    }\n",
       "\n",
       "    .dataframe tbody tr th {\n",
       "        vertical-align: top;\n",
       "    }\n",
       "\n",
       "    .dataframe thead th {\n",
       "        text-align: right;\n",
       "    }\n",
       "</style>\n",
       "<table border=\"1\" class=\"dataframe\">\n",
       "  <thead>\n",
       "    <tr style=\"text-align: right;\">\n",
       "      <th></th>\n",
       "      <th>class</th>\n",
       "      <th>signal</th>\n",
       "    </tr>\n",
       "  </thead>\n",
       "  <tbody>\n",
       "    <tr>\n",
       "      <th>43</th>\n",
       "      <td>1</td>\n",
       "      <td>[0.39034476206762314, 0.39133921712493935, 0.3...</td>\n",
       "    </tr>\n",
       "    <tr>\n",
       "      <th>44</th>\n",
       "      <td>1</td>\n",
       "      <td>[0.40315375044409824, 0.4048116725300225, 0.40...</td>\n",
       "    </tr>\n",
       "    <tr>\n",
       "      <th>45</th>\n",
       "      <td>1</td>\n",
       "      <td>[0.5665808252437974, 0.5639590816469907, 0.561...</td>\n",
       "    </tr>\n",
       "    <tr>\n",
       "      <th>46</th>\n",
       "      <td>1</td>\n",
       "      <td>[-0.9381179803473073, -0.9457174045879385, -0....</td>\n",
       "    </tr>\n",
       "    <tr>\n",
       "      <th>47</th>\n",
       "      <td>1</td>\n",
       "      <td>[-1.5607167348253783, -1.558098921961959, -1.5...</td>\n",
       "    </tr>\n",
       "    <tr>\n",
       "      <th>48</th>\n",
       "      <td>1</td>\n",
       "      <td>[0.3533520985862689, 0.3546010579642341, 0.355...</td>\n",
       "    </tr>\n",
       "    <tr>\n",
       "      <th>49</th>\n",
       "      <td>1</td>\n",
       "      <td>[0.367196659996443, 0.36875081060738074, 0.370...</td>\n",
       "    </tr>\n",
       "    <tr>\n",
       "      <th>50</th>\n",
       "      <td>1</td>\n",
       "      <td>[0.5592940332755221, 0.5624160011502768, 0.565...</td>\n",
       "    </tr>\n",
       "    <tr>\n",
       "      <th>51</th>\n",
       "      <td>1</td>\n",
       "      <td>[0.5934361368314437, 0.5971633877461374, 0.600...</td>\n",
       "    </tr>\n",
       "    <tr>\n",
       "      <th>52</th>\n",
       "      <td>1</td>\n",
       "      <td>[-1.3412173386106212, -1.3419125667749745, -1....</td>\n",
       "    </tr>\n",
       "    <tr>\n",
       "      <th>53</th>\n",
       "      <td>1</td>\n",
       "      <td>[-1.3452664573104443, -1.345318510107017, -1.3...</td>\n",
       "    </tr>\n",
       "    <tr>\n",
       "      <th>54</th>\n",
       "      <td>1</td>\n",
       "      <td>[-0.7421387713145039, -0.7440067482617805, -0....</td>\n",
       "    </tr>\n",
       "    <tr>\n",
       "      <th>55</th>\n",
       "      <td>1</td>\n",
       "      <td>[-0.7591937956500387, -0.7606949808491414, -0....</td>\n",
       "    </tr>\n",
       "  </tbody>\n",
       "</table>\n",
       "</div>"
      ],
      "text/plain": [
       "   class                                             signal\n",
       "43     1  [0.39034476206762314, 0.39133921712493935, 0.3...\n",
       "44     1  [0.40315375044409824, 0.4048116725300225, 0.40...\n",
       "45     1  [0.5665808252437974, 0.5639590816469907, 0.561...\n",
       "46     1  [-0.9381179803473073, -0.9457174045879385, -0....\n",
       "47     1  [-1.5607167348253783, -1.558098921961959, -1.5...\n",
       "48     1  [0.3533520985862689, 0.3546010579642341, 0.355...\n",
       "49     1  [0.367196659996443, 0.36875081060738074, 0.370...\n",
       "50     1  [0.5592940332755221, 0.5624160011502768, 0.565...\n",
       "51     1  [0.5934361368314437, 0.5971633877461374, 0.600...\n",
       "52     1  [-1.3412173386106212, -1.3419125667749745, -1....\n",
       "53     1  [-1.3452664573104443, -1.345318510107017, -1.3...\n",
       "54     1  [-0.7421387713145039, -0.7440067482617805, -0....\n",
       "55     1  [-0.7591937956500387, -0.7606949808491414, -0...."
      ]
     },
     "execution_count": 14,
     "metadata": {},
     "output_type": "execute_result"
    }
   ],
   "source": [
    "temp_dataset = temp_dataset.append(dataset[dataset['class'] ==1], ignore_index=True)\n",
    "temp_dataset[temp_dataset['class']==1]"
   ]
  },
  {
   "cell_type": "code",
   "execution_count": 15,
   "metadata": {},
   "outputs": [
    {
     "data": {
      "text/plain": [
       "0     0\n",
       "1     0\n",
       "2     0\n",
       "3     0\n",
       "4     0\n",
       "5     0\n",
       "6     0\n",
       "7     0\n",
       "8     0\n",
       "9     0\n",
       "10    0\n",
       "11    0\n",
       "12    0\n",
       "13    0\n",
       "14    0\n",
       "15    0\n",
       "16    0\n",
       "17    0\n",
       "18    0\n",
       "19    0\n",
       "20    0\n",
       "21    0\n",
       "22    0\n",
       "23    0\n",
       "24    0\n",
       "25    0\n",
       "26    0\n",
       "27    0\n",
       "28    0\n",
       "29    0\n",
       "30    0\n",
       "31    0\n",
       "32    0\n",
       "33    0\n",
       "34    0\n",
       "35    0\n",
       "36    0\n",
       "37    0\n",
       "38    0\n",
       "39    0\n",
       "40    0\n",
       "41    0\n",
       "42    0\n",
       "43    1\n",
       "44    1\n",
       "45    1\n",
       "46    1\n",
       "47    1\n",
       "48    1\n",
       "49    1\n",
       "50    1\n",
       "51    1\n",
       "52    1\n",
       "53    1\n",
       "54    1\n",
       "55    1\n",
       "Name: class, dtype: object"
      ]
     },
     "execution_count": 15,
     "metadata": {},
     "output_type": "execute_result"
    }
   ],
   "source": [
    "temp_dataset['class']"
   ]
  },
  {
   "cell_type": "code",
   "execution_count": 16,
   "metadata": {},
   "outputs": [],
   "source": [
    "#Разбиение датафрейма на нампи массивы, чтобы успешно \"скормить\" методу\n",
    "signal = np.empty([1,600])\n",
    "classes = np.empty(1)\n",
    "for j in range(1, temp_dataset['class'].index.max()):\n",
    "    classes = np.append(classes, temp_dataset['class'][j])\n",
    "    temp = np.empty([1,600])\n",
    "    for i in range(0, 599):\n",
    "        temp[0][i] = float(temp_dataset['signal'][j][i])\n",
    "    signal = np.append(signal, temp, axis=0)\n",
    "classes = classes[1:classes.size]\n",
    "signal = signal[1:signal.size/600]"
   ]
  },
  {
   "cell_type": "code",
   "execution_count": 17,
   "metadata": {},
   "outputs": [],
   "source": [
    "# Данные для обучения\n",
    "# Х - признаки  \n",
    "# Y - верные ответы \n",
    "\n",
    "Xn = signal\n",
    "Yn = classes\n",
    "\n",
    "X_train, X_test, Y_train, Y_test = train_test_split(Xn, Yn, test_size = 0.3, random_state = 11)"
   ]
  },
  {
   "cell_type": "code",
   "execution_count": 95,
   "metadata": {},
   "outputs": [
    {
     "name": "stdout",
     "output_type": "stream",
     "text": [
      "errors:\n",
      "    chebyshev  euclidean  manhattan\n",
      "1        18.0       18.0       18.0\n",
      "2        18.0       18.0       18.0\n",
      "3        12.0       18.0       18.0\n",
      "4        12.0       12.0       12.0\n",
      "5         6.0        6.0        6.0\n",
      "6         6.0        6.0        6.0\n",
      "7         6.0        6.0        6.0\n",
      "8         6.0        6.0        6.0\n",
      "9         6.0        6.0        6.0\n",
      "10       12.0        6.0        6.0\n",
      "11       18.0        6.0        6.0\n",
      "12       18.0        6.0       12.0\n",
      "13       24.0       18.0       12.0\n",
      "14       24.0       12.0       12.0\n",
      "15       24.0       18.0       18.0\n",
      "16       24.0       18.0       18.0\n",
      "17       24.0       18.0       18.0\n",
      "18       24.0       18.0       18.0\n",
      "19       24.0       24.0       18.0\n",
      "20       24.0       24.0       18.0\n",
      "21       29.0       24.0       24.0\n",
      "22       29.0       24.0       24.0\n",
      "23       29.0       29.0       24.0\n",
      "24       29.0       29.0       29.0\n",
      "time:\n",
      "    chebyshev  euclidean  manhattan\n",
      "1    0.000072   0.000090   0.000101\n",
      "2    0.000071   0.000325   0.000091\n",
      "3    0.000326   0.000435   0.000089\n",
      "4    0.000066   0.000084   0.000257\n",
      "5    0.000071   0.000080   0.000202\n",
      "6    0.000064   0.000081   0.000087\n",
      "7    0.000069   0.000084   0.000089\n",
      "8    0.000068   0.000089   0.000084\n",
      "9    0.000076   0.000088   0.000137\n",
      "10   0.000068   0.000097   0.000091\n",
      "11   0.000066   0.000094   0.000086\n",
      "12   0.000074   0.000107   0.000101\n",
      "13   0.000092   0.000088   0.000338\n",
      "14   0.000074   0.000120   0.000094\n",
      "15   0.000139   0.000089   0.000111\n",
      "16   0.000074   0.000093   0.000097\n",
      "17   0.000068   0.000088   0.000088\n",
      "18   0.000082   0.000043   0.000049\n",
      "19   0.000061   0.000042   0.000045\n",
      "20   0.000059   0.000042   0.000049\n",
      "21   0.000060   0.000038   0.000051\n",
      "22   0.000064   0.000038   0.000047\n",
      "23   0.000056   0.000038   0.000044\n",
      "24   0.000063   0.000036   0.000057\n"
     ]
    }
   ],
   "source": [
    "#Метод к ближайших соседей\n",
    "def KNClass(X_train, Y_train, X_test, Y_test):\n",
    "    n_neighbors_array = [i for i in range(1, 25)]\n",
    "    metric_array = ['euclidean','manhattan', 'chebyshev',]\n",
    "    err = {'euclidean':[],'manhattan':[], 'chebyshev':[],}\n",
    "    t = {'euclidean':[],'manhattan':[], 'chebyshev':[],}\n",
    "    for i in n_neighbors_array:\n",
    "        for met in metric_array:\n",
    "            knn = neighbors.KNeighborsClassifier(n_neighbors=i, metric=met,weights='distance')\n",
    "            knn.fit(X_train, Y_train)\n",
    "            t0 = time()\n",
    "            y_test_predict = knn.predict(X_test)\n",
    "            t1 = time()\n",
    "            err[met].append(round(np.mean(Y_test  != y_test_predict)*100))\n",
    "            t[met].append(round(t1-t0,5)/Y_test.size)\n",
    "    p1 = pd.Series(t,index=n_neighbors_array)\n",
    "    p2 = pd.Series(err,index=n_neighbors_array)\n",
    "    KNeighbors_time = pd.DataFrame(t, index=n_neighbors_array)                \n",
    "    KNeighbors_err = pd.DataFrame(err, index=n_neighbors_array)\n",
    "    return(KNeighbors_err, KNeighbors_time)\n",
    "print('errors:')\n",
    "print(KNClass(X_train, Y_train, X_test, Y_test)[0])\n",
    "print('time:')\n",
    "print(KNClass(X_train, Y_train, X_test, Y_test)[1])  "
   ]
  },
  {
   "cell_type": "code",
   "execution_count": 19,
   "metadata": {},
   "outputs": [
    {
     "name": "stdout",
     "output_type": "stream",
     "text": [
      "error on train data:\n",
      "59.46\n",
      "error on test data:\n",
      "52.94\n"
     ]
    }
   ],
   "source": [
    "#Наивный байес\n",
    "def nb(X_train, Y_train, X_test, Y_test):\n",
    "    model = GaussianNB()\n",
    "    # Train the model using the training sets \n",
    "    model.fit(X_train, Y_train)\n",
    "    \n",
    "    err_train = round(np.mean(Y_train != model.predict(X_train))*100, 2)\n",
    "    err_test  = round(np.mean(Y_test  != model.predict(X_test))*100, 2)\n",
    "    \n",
    "    return(err_train, err_test)\n",
    "\n",
    "(train, test) = nb(X_train, Y_train, X_test, Y_test)\n",
    "print('error on train data:')\n",
    "print(train)\n",
    "print('error on test data:')\n",
    "print(test)"
   ]
  },
  {
   "cell_type": "code",
   "execution_count": 93,
   "metadata": {},
   "outputs": [],
   "source": [
    "#SVC\n",
    "def svc(X_train, Y_train, X_test, Y_test):\n",
    "    C = [i for i in range(1,11)]\n",
    "    kernel = ['linear', 'rbf', 'poly', 'sigmoid']\n",
    "    degree = [i for i in range(2,6)]\n",
    "    err_train = []\n",
    "    err_test = []\n",
    "    for k in kernel:\n",
    "        if k == 'linear' or k == 'rbf' or k == 'sigmoid':\n",
    "            for c in C:\n",
    "                svc = SVC(C=c, kernel=k)\n",
    "                svc.fit(X_train, Y_train)\n",
    "                t1 = time()\n",
    "                train_pred = round(np.mean(Y_train != svc.predict(X_train))*100, 2)\n",
    "                t2 = time()\n",
    "                test_pred = round(np.mean(Y_test != svc.predict(X_test))*100, 2)\n",
    "                t3 = time()\n",
    "                err_train.append([k, 'ignored', c, train_pred,round(t2-t1,5)/Y_train.size])\n",
    "                err_test.append([k, 'ignored', c, test_pred,round(t3-t2,5)/Y_test.size])\n",
    "        if k == 'poly':\n",
    "            for d in degree:\n",
    "                for c in C:\n",
    "                    svc = SVC(C=c, kernel=k, degree=d)\n",
    "                    t0 = time()\n",
    "                    svc.fit(X_train, Y_train)\n",
    "                    t1 = time()\n",
    "                    train_pred = round(np.mean(Y_train != svc.predict(X_train))*100, 2)\n",
    "                    t2 = time()\n",
    "                    test_pred = round(np.mean(Y_test != svc.predict(X_test))*100, 2)\n",
    "                    t3 = time()\n",
    "                    err_train.append([k, d, c, train_pred,round(t2-t1,5)/Y_train.size])\n",
    "                    err_test.append([k, d, c, test_pred,round((t3-t2),5)/Y_test.size])\n",
    "    \n",
    "    return(err_train, err_test)\n",
    "\n",
    "(train, test) = svc(X_train, Y_train, X_test, Y_test)"
   ]
  },
  {
   "cell_type": "code",
   "execution_count": 94,
   "metadata": {},
   "outputs": [
    {
     "name": "stdout",
     "output_type": "stream",
     "text": [
      "kernel, degree, C, min_train_error, time\n",
      "['linear', 'ignored', 2, 10.81, 2.3783783783783785e-05]\n",
      "['rbf', 'ignored', 5, 2.7, 4.4594594594594596e-05]\n",
      "['poly', 2, 8, 8.11, 0.00012756756756756758]\n",
      "['sigmoid', 'ignored', 2, 16.22, 1.4864864864864867e-05]\n",
      "kernel, degree, C, min_test_error, time\n",
      "['linear', 'ignored', 1, 17.65, 2.3529411764705884e-05]\n",
      "['rbf', 'ignored', 3, 23.53, 2.3529411764705884e-05]\n",
      "['poly', 2, 1, 29.41, 1.941176470588235e-05]\n",
      "['sigmoid', 'ignored', 2, 17.65, 1.8235294117647057e-05]\n"
     ]
    }
   ],
   "source": [
    "kernel = ['linear', 'rbf', 'poly', 'sigmoid']\n",
    "print('kernel, degree, C, min_train_error, time')\n",
    "for k in kernel:\n",
    "    temp = 100\n",
    "    num = 0\n",
    "    for i in range(0, len(train)):\n",
    "        if train[i][0] == k:\n",
    "            if train[i][3] < temp:\n",
    "                temp = train[i][3]\n",
    "                num = i        \n",
    "    print(train[num])\n",
    "\n",
    "print('kernel, degree, C, min_test_error, time')\n",
    "for k in kernel:\n",
    "    temp = 100\n",
    "    num = 0\n",
    "    for i in range(0, len(test)):\n",
    "        if test[i][0] == k:\n",
    "            if test[i][3] < temp:\n",
    "                temp = test[i][3]\n",
    "                num = i        \n",
    "    print(test[num])"
   ]
  },
  {
   "cell_type": "code",
   "execution_count": 130,
   "metadata": {},
   "outputs": [],
   "source": [
    "from sklearn.tree import DecisionTreeClassifier\n",
    "\n",
    "def dectree(X_train, Y_train, X_test, Y_test, integer=False):\n",
    "    err = []\n",
    "    depth = [i for i in range(1,21)]\n",
    "    crit = ['gini', 'entropy']\n",
    "    split = ['best', 'random']\n",
    "    random = [i for i in range(1,21)]\n",
    "    \n",
    "    for s in split:\n",
    "        for c in crit:\n",
    "            for r in random:\n",
    "                for d in depth:\n",
    "                    clf_tree = DecisionTreeClassifier(criterion=c, max_depth=d, random_state=r, splitter=s, presort=True)\n",
    "                    clf_tree.fit(X=X_train, y=Y_train)\n",
    "                    if integer:\n",
    "                        err_train = round(np.mean(Y_train != clf_tree.predict(X_train).astype('int'))*100, 2)\n",
    "                        t1 = time()\n",
    "                        err_test  = round(np.mean(Y_test  != clf_tree.predict(X_test).astype('int'))*100, 2)\n",
    "                    else:\n",
    "                        err_train = round(np.mean(Y_train != clf_tree.predict(X_train))*100, 2)\n",
    "                        t1 = time()\n",
    "                        err_test  = round(np.mean(Y_test  != clf_tree.predict(X_test))*100, 2)\n",
    "                    t = t1 - time()\n",
    "                    err.append([s,c,r,d,err_test,round(t,5)/Y_test.size])\n",
    "    return err"
   ]
  },
  {
   "cell_type": "code",
   "execution_count": 131,
   "metadata": {},
   "outputs": [],
   "source": [
    "err = dectree(X_train, Y_train, X_test, Y_test)"
   ]
  },
  {
   "cell_type": "code",
   "execution_count": 133,
   "metadata": {},
   "outputs": [
    {
     "name": "stdout",
     "output_type": "stream",
     "text": [
      "splitter, criteria, random, depth, time\n",
      "['best', 'gini', 5, 2, 11.76, -5.882352941176471e-06]\n",
      "['random', 'entropy', 2, 3, 11.76, -5.294117647058824e-06]\n"
     ]
    }
   ],
   "source": [
    "crit = ['gini', 'entropy']\n",
    "print('splitter, criteria, random, depth, time')\n",
    "for c in crit:\n",
    "    temp = 100\n",
    "    num = 0\n",
    "    for i in range(0, len(err)):\n",
    "        if err[i][1] == c:\n",
    "            if err[i][4] < temp:\n",
    "                temp = err[i][4]\n",
    "                num = i        \n",
    "    print(err[num])"
   ]
  },
  {
   "cell_type": "code",
   "execution_count": null,
   "metadata": {},
   "outputs": [],
   "source": []
  }
 ],
 "metadata": {
  "kernelspec": {
   "display_name": "Python 2",
   "language": "python",
   "name": "python2"
  },
  "language_info": {
   "codemirror_mode": {
    "name": "ipython",
    "version": 2
   },
   "file_extension": ".py",
   "mimetype": "text/x-python",
   "name": "python",
   "nbconvert_exporter": "python",
   "pygments_lexer": "ipython2",
   "version": "2.7.15+"
  }
 },
 "nbformat": 4,
 "nbformat_minor": 2
}
